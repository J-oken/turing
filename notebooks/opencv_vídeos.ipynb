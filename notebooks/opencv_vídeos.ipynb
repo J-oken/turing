{
 "cells": [
  {
   "cell_type": "code",
   "execution_count": 1,
   "metadata": {
    "colab": {
     "base_uri": "https://localhost:8080/"
    },
    "id": "B60fIdNL8cnF",
    "outputId": "914231ce-893b-4e4a-90a5-a438f35b1550"
   },
   "outputs": [
    {
     "name": "stdout",
     "output_type": "stream",
     "text": [
      "Drive already mounted at /content/drive; to attempt to forcibly remount, call drive.mount(\"/content/drive\", force_remount=True).\n"
     ]
    }
   ],
   "source": [
    "# sólo en GOOGLE COLAB!!\n",
    "from google.colab import drive\n",
    "drive.mount('/content/drive')\n"
   ]
  },
  {
   "cell_type": "code",
   "execution_count": 6,
   "metadata": {
    "id": "cjRQFZHd8ru4"
   },
   "outputs": [],
   "source": [
    "# sólo en GOOGLE COLAB!!\n",
    "from google.colab.patches import cv2_imshow\n"
   ]
  },
  {
   "cell_type": "code",
   "execution_count": 2,
   "metadata": {
    "colab": {
     "base_uri": "https://localhost:8080/"
    },
    "id": "U3FIYfE60wAu",
    "outputId": "bbc2573c-82c8-4980-df7e-2d9e363803bd"
   },
   "outputs": [
    {
     "name": "stdout",
     "output_type": "stream",
     "text": [
      "Looking in indexes: https://pypi.org/simple, https://us-python.pkg.dev/colab-wheels/public/simple/\n",
      "Requirement already satisfied: opencv-contrib-python in /usr/local/lib/python3.8/dist-packages (4.6.0.66)\n",
      "Requirement already satisfied: numpy>=1.17.3 in /usr/local/lib/python3.8/dist-packages (from opencv-contrib-python) (1.21.6)\n"
     ]
    }
   ],
   "source": [
    "!pip3 install opencv-contrib-python\n"
   ]
  },
  {
   "cell_type": "markdown",
   "metadata": {
    "id": "ePcj0JRJSGbh"
   },
   "source": [
    "# **OPENCV** (python)"
   ]
  },
  {
   "cell_type": "code",
   "execution_count": 9,
   "metadata": {
    "id": "HYFPCdsJSCUE"
   },
   "outputs": [],
   "source": [
    "import os;\n",
    "import math;\n",
    "import numpy as np;\n",
    "import cv2;\n",
    "import skimage as ski;\n"
   ]
  },
  {
   "cell_type": "code",
   "execution_count": 10,
   "metadata": {
    "id": "pVo2RDMQIJEd"
   },
   "outputs": [
    {
     "name": "stdout",
     "output_type": "stream",
     "text": [
      "True\n",
      "total 55M\n",
      "-rw-r--r-- 1 pcjf docentes  27M feb  3 13:27 ComoLágrimasEnLaLluvia.mp4\n",
      "-rw-r--r-- 1 pcjf docentes  14M ene 31 18:54 opencv_tutorial.ipynb\n",
      "-rw------- 1 pcjf docentes 7,9K feb  3 18:02 opencv_vídeos.ipynb\n",
      "-rw-r--r-- 1 pcjf docentes 2,8M feb  1 18:52 skimage_filtros.ipynb\n",
      "-rw-r--r-- 1 pcjf docentes  12M feb  1 17:50 skimage_introducción.ipynb\n"
     ]
    }
   ],
   "source": [
    "#BASE=\"/content/drive/MyDrive/DATASETS\"\n",
    "\n",
    "BASE=os.getcwd();\n",
    "\n",
    "VÍDEO= os.path.join(BASE,\"ComoLágrimasEnLaLluvia.mp4\")\n",
    "\n",
    "print(os.path.isfile(VÍDEO));\n",
    "\n",
    "!ls -lh "
   ]
  },
  {
   "cell_type": "code",
   "execution_count": 16,
   "metadata": {
    "colab": {
     "base_uri": "https://localhost:8080/",
     "height": 125
    },
    "id": "77TJQXTGIoIX",
    "outputId": "afd53fe8-5232-46fc-aba0-5af43694e5bd"
   },
   "outputs": [
    {
     "data": {
      "text/plain": [
       "None"
      ]
     },
     "metadata": {},
     "output_type": "display_data"
    },
    {
     "ename": "KeyboardInterrupt",
     "evalue": "",
     "output_type": "error",
     "traceback": [
      "\u001b[0;31m---------------------------------------------------------------------------\u001b[0m",
      "\u001b[0;31mKeyboardInterrupt\u001b[0m                         Traceback (most recent call last)",
      "\u001b[0;32m/tmp/ipykernel_904119/1520108349.py\u001b[0m in \u001b[0;36m<module>\u001b[0;34m\u001b[0m\n\u001b[1;32m     43\u001b[0m \u001b[0;34m\u001b[0m\u001b[0m\n\u001b[1;32m     44\u001b[0m                 \u001b[0;31m#Cambio el formato de la imagen\u001b[0m\u001b[0;34m\u001b[0m\u001b[0;34m\u001b[0m\u001b[0;34m\u001b[0m\u001b[0m\n\u001b[0;32m---> 45\u001b[0;31m                 \u001b[0m_\u001b[0m\u001b[0;34m,\u001b[0m \u001b[0mframe\u001b[0m \u001b[0;34m=\u001b[0m \u001b[0mcv2\u001b[0m\u001b[0;34m.\u001b[0m\u001b[0mimencode\u001b[0m\u001b[0;34m(\u001b[0m\u001b[0;34m'.jpeg'\u001b[0m\u001b[0;34m,\u001b[0m \u001b[0mframe\u001b[0m\u001b[0;34m)\u001b[0m\u001b[0;34m;\u001b[0m\u001b[0;34m\u001b[0m\u001b[0;34m\u001b[0m\u001b[0m\n\u001b[0m\u001b[1;32m     46\u001b[0m \u001b[0;34m\u001b[0m\u001b[0m\n\u001b[1;32m     47\u001b[0m                 \u001b[0;31m#Actualizo la imagen en el notebook\u001b[0m\u001b[0;34m\u001b[0m\u001b[0;34m\u001b[0m\u001b[0;34m\u001b[0m\u001b[0m\n",
      "\u001b[0;31mKeyboardInterrupt\u001b[0m: "
     ]
    }
   ],
   "source": [
    "from IPython.display import display, Image;\n",
    "\n",
    "from skimage import data, io, filters;\n",
    "\n",
    "import time;\n",
    "\n",
    "scale_percent  = 0 / 100; \n",
    "frames_per_sec = 20;\n",
    "\n",
    "sec_per_frame=(1/frames_per_sec);\n",
    "\n",
    "offset= 0; #2000;\n",
    "\n",
    "if os.path.isfile(VÍDEO):\n",
    "   cap = cv2.VideoCapture(VÍDEO);\n",
    "   dh=display(None, display_id=True);\n",
    "   try: \n",
    "       count=0;\n",
    "       while cap.isOpened():\n",
    "             ret, frame = cap.read();\n",
    "             if ret == True:\n",
    "                tmi=time.time();\n",
    "                count+=1;\n",
    "                \n",
    "                if count<offset: continue;\n",
    "                \n",
    "                if scale_percent>0:\n",
    "                   #Cambio del tamaño del vídeo original\n",
    "                   width = int(frame.shape[1] * scale_percent);\n",
    "                   height = int(frame.shape[0] * scale_percent);\n",
    "                   dim = (width, height);\n",
    "                   frame=cv2.resize(frame,dim,interpolation=cv2.INTER_AREA);\n",
    "                \n",
    "                #c1 = frame[:,:,0]\n",
    "                #c2 = frame[:,:,1]\n",
    "                #c3 = frame[:,:,2]\n",
    "                \n",
    "                #c1 = filters.rank.median(c1, disk(15))\n",
    "                #c2 = filters.rank.median(c2, disk(15))\n",
    "                #c3 = filters.rank.median(c3, disk(15))\n",
    "                \n",
    "                #frame = np.dstack( (c1,c2,c3) );\n",
    "                \n",
    "                #Cambio el formato de la imagen\n",
    "                _, frame = cv2.imencode('.jpeg', frame);\n",
    "                \n",
    "                #Actualizo la imagen en el notebook\n",
    "                dh.update(Image(data=frame.tobytes()));\n",
    "                \n",
    "                #¿cuanto tiempo he tardado?\n",
    "                tmo=time.time();\n",
    "                \n",
    "                #¿es más que los sec_per_frame?\n",
    "                if (tmo-tmi) < sec_per_frame:\n",
    "                   #Si es menos, espero un ratín. \n",
    "                   diff=sec_per_frame-(tmo-tmi);\n",
    "                   time.sleep(diff);\n",
    "\n",
    "             else: \n",
    "               break\n",
    "            \n",
    "   #except:\n",
    "   #  pass;\n",
    "    \n",
    "   finally:\n",
    "     cap.release()\n",
    "     dh.update(None);\n"
   ]
  }
 ],
 "metadata": {
  "colab": {
   "provenance": []
  },
  "kernelspec": {
   "display_name": "Python 3 (ipykernel)",
   "language": "python",
   "name": "python3"
  },
  "language_info": {
   "codemirror_mode": {
    "name": "ipython",
    "version": 3
   },
   "file_extension": ".py",
   "mimetype": "text/x-python",
   "name": "python",
   "nbconvert_exporter": "python",
   "pygments_lexer": "ipython3",
   "version": "3.7.16"
  }
 },
 "nbformat": 4,
 "nbformat_minor": 4
}

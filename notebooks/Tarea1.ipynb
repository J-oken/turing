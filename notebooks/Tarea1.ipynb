{
 "cells": [
  {
   "cell_type": "markdown",
   "metadata": {
    "id": "duuqE40PJUL7"
   },
   "source": [
    "# **Tarea 2**"
   ]
  },
  {
   "cell_type": "markdown",
   "metadata": {
    "id": "MLiBiCaRI4bR"
   },
   "source": [
    "### 1º Calcular el cociente de 23 entre 5"
   ]
  },
  {
   "cell_type": "code",
   "execution_count": 8,
   "metadata": {
    "colab": {
     "base_uri": "https://localhost:8080/"
    },
    "id": "KcfpsmKMI_Lu",
    "outputId": "d84df8f3-3862-464b-fdc0-6efaa9a3fa28"
   },
   "outputs": [
    {
     "data": {
      "text/plain": [
       "4"
      ]
     },
     "execution_count": 8,
     "metadata": {},
     "output_type": "execute_result"
    }
   ],
   "source": [
    "# tiene que dar 4\n",
    "23//5"
   ]
  },
  {
   "cell_type": "markdown",
   "metadata": {
    "id": "5bUNJKTaJFS5"
   },
   "source": [
    "### 2º Calcular el resto de dividir 23 entre 5"
   ]
  },
  {
   "cell_type": "code",
   "execution_count": null,
   "metadata": {
    "colab": {
     "base_uri": "https://localhost:8080/"
    },
    "id": "fwNz5PAfJRHM",
    "outputId": "a4c0bbf1-e8a6-40e1-dccd-74ffc3677466"
   },
   "outputs": [
    {
     "data": {
      "text/plain": [
       "3"
      ]
     },
     "execution_count": 3,
     "metadata": {},
     "output_type": "execute_result"
    }
   ],
   "source": [
    "# tiene que dar 3\n",
    "23%5"
   ]
  },
  {
   "cell_type": "markdown",
   "metadata": {
    "id": "_pb4aWGrJm5G"
   },
   "source": [
    "### 3º Realizar la siguiente operación: \n",
    "\n",
    "15 + 25 ÷ 3 - 4"
   ]
  },
  {
   "cell_type": "code",
   "execution_count": null,
   "metadata": {
    "colab": {
     "base_uri": "https://localhost:8080/"
    },
    "id": "sGArUKjVJ6ZU",
    "outputId": "aa2e3307-300e-47ab-a326-91d91dbaf139"
   },
   "outputs": [
    {
     "data": {
      "text/plain": [
       "19.333333333333336"
      ]
     },
     "execution_count": 4,
     "metadata": {},
     "output_type": "execute_result"
    }
   ],
   "source": [
    "# tiene que dar 19.333333333333336\n",
    "15 + 25 / 3 - 4"
   ]
  },
  {
   "cell_type": "markdown",
   "metadata": {
    "id": "gCWOClaqJ61m"
   },
   "source": [
    "### 4º Realiza la siguiente operación: \n",
    "\n",
    "$\\frac{12-\\frac{13+4-7}{5*6}}{3^2}$"
   ]
  },
  {
   "cell_type": "code",
   "execution_count": 14,
   "metadata": {
    "colab": {
     "base_uri": "https://localhost:8080/"
    },
    "id": "D1Gcm7JHLxhr",
    "outputId": "64569099-3903-4339-ab69-f18e82eebb00"
   },
   "outputs": [
    {
     "data": {
      "text/plain": [
       "1.2962962962962963"
      ]
     },
     "execution_count": 14,
     "metadata": {},
     "output_type": "execute_result"
    }
   ],
   "source": [
    "# tiene que dar 1.2962962962962963\n",
    "a = (12-((13+4-7)/(5*6)))/(3**2)\n",
    "print(a)"
   ]
  },
  {
   "cell_type": "markdown",
   "metadata": {
    "id": "G8D5ZYtuMaeV"
   },
   "source": [
    "###5º Realiza la siguiente operación: \n",
    "\n",
    "$\\frac{3+4^{5}-6·(7-8^{9})+10^{11}·12+13}{2·(3·4-5^{6})+7^{8}}$"
   ]
  },
  {
   "cell_type": "code",
   "execution_count": 13,
   "metadata": {
    "colab": {
     "base_uri": "https://localhost:8080/"
    },
    "id": "AH9Vcx3DOFud",
    "outputId": "cfa7626d-06c4-4308-97b6-c65d745d95e0"
   },
   "outputs": [
    {
     "data": {
      "text/plain": [
       "209433.95828361885"
      ]
     },
     "execution_count": 13,
     "metadata": {},
     "output_type": "execute_result"
    }
   ],
   "source": [
    "# tiene que dar 209433.95828361885\n",
    "(3+4**5-6*(7-8**9)+10**11*12+13)/(2*(3*4-5**6)+7**8)"
   ]
  },
  {
   "cell_type": "markdown",
   "metadata": {
    "id": "oUc4w9STOGt1"
   },
   "source": [
    "### 6º Realiza la siguiente operación: \n",
    "\n",
    "4j+(4+2j)*2"
   ]
  },
  {
   "cell_type": "code",
   "execution_count": 18,
   "metadata": {
    "colab": {
     "base_uri": "https://localhost:8080/"
    },
    "id": "uYBEzeIeOU6G",
    "outputId": "6a3064c2-8898-4dc0-9483-fed39ba83e05"
   },
   "outputs": [
    {
     "data": {
      "text/plain": [
       "(8+8j)"
      ]
     },
     "execution_count": 18,
     "metadata": {},
     "output_type": "execute_result"
    }
   ],
   "source": [
    "# tiene que dar 8+8j\n",
    "4j+(4+2j)*2"
   ]
  },
  {
   "cell_type": "markdown",
   "metadata": {
    "id": "pBbPGWFVOVca"
   },
   "source": [
    "### 7º Realiza la siguiente operación:\n",
    "\n",
    "$\\frac{2+j}{3-j}+\\frac{25}{1-j}$"
   ]
  },
  {
   "cell_type": "code",
   "execution_count": 19,
   "metadata": {
    "colab": {
     "base_uri": "https://localhost:8080/"
    },
    "id": "KGstaXpTPNCg",
    "outputId": "84b464b5-a511-4b5d-e135-bf5c6a28e325"
   },
   "outputs": [
    {
     "data": {
      "text/plain": [
       "(13+13j)"
      ]
     },
     "execution_count": 19,
     "metadata": {},
     "output_type": "execute_result"
    }
   ],
   "source": [
    "# tiene que dar 13+13j\n",
    "((2+1j)/(3-1j))+((25)/(1-1j))"
   ]
  },
  {
   "cell_type": "markdown",
   "metadata": {
    "id": "7aE3GYhqPO1v"
   },
   "source": [
    "### 8º Realiza la siguiente operación:\n",
    "\n",
    "$(1+i)^{3}$"
   ]
  },
  {
   "cell_type": "code",
   "execution_count": 30,
   "metadata": {
    "colab": {
     "base_uri": "https://localhost:8080/"
    },
    "id": "4Cs4GajuPxS5",
    "outputId": "152120b4-b9da-461f-c357-bb0f2bac39bc"
   },
   "outputs": [
    {
     "data": {
      "text/plain": [
       "(-2+2j)"
      ]
     },
     "execution_count": 30,
     "metadata": {},
     "output_type": "execute_result"
    }
   ],
   "source": [
    "# tiene que dar (-2+2j)\n",
    "(1+1j)**3"
   ]
  },
  {
   "cell_type": "markdown",
   "metadata": {
    "id": "UqVWT07rQKQj"
   },
   "source": [
    "### 9º Realiza la siguiente operación (arg(z) representa el argumento - o fase - de z):\n",
    "\n",
    "$arg(\\frac{4+7j}{3-2j})$"
   ]
  },
  {
   "cell_type": "code",
   "execution_count": 2,
   "metadata": {
    "colab": {
     "base_uri": "https://localhost:8080/"
    },
    "id": "CW6LRzozQ2dI",
    "outputId": "7adc663f-4d48-45a7-a662-e54d7d85d1c3"
   },
   "outputs": [
    {
     "ename": "ImportError",
     "evalue": "cannot import name 'arg' from 'numpy' (C:\\Users\\jairo.teijomendoza\\Anaconda3\\lib\\site-packages\\numpy\\__init__.py)",
     "output_type": "error",
     "traceback": [
      "\u001b[1;31m---------------------------------------------------------------------------\u001b[0m",
      "\u001b[1;31mImportError\u001b[0m                               Traceback (most recent call last)",
      "\u001b[1;32m~\\AppData\\Local\\Temp\\ipykernel_10508\\319910833.py\u001b[0m in \u001b[0;36m<module>\u001b[1;34m\u001b[0m\n\u001b[0;32m      1\u001b[0m \u001b[1;31m# tiene que dar 1.6396528160959412\u001b[0m\u001b[1;33m\u001b[0m\u001b[1;33m\u001b[0m\u001b[0m\n\u001b[0;32m      2\u001b[0m \u001b[1;32mimport\u001b[0m \u001b[0mnumpy\u001b[0m\u001b[1;33m\u001b[0m\u001b[1;33m\u001b[0m\u001b[0m\n\u001b[1;32m----> 3\u001b[1;33m \u001b[1;32mfrom\u001b[0m \u001b[0mnumpy\u001b[0m \u001b[1;32mimport\u001b[0m \u001b[0marg\u001b[0m\u001b[1;33m\u001b[0m\u001b[1;33m\u001b[0m\u001b[0m\n\u001b[0m\u001b[0;32m      4\u001b[0m \u001b[0marg\u001b[0m\u001b[1;33m(\u001b[0m\u001b[1;36m1\u001b[0m \u001b[1;33m+\u001b[0m \u001b[1;36m1j\u001b[0m\u001b[1;33m)\u001b[0m\u001b[1;33m\u001b[0m\u001b[1;33m\u001b[0m\u001b[0m\n",
      "\u001b[1;31mImportError\u001b[0m: cannot import name 'arg' from 'numpy' (C:\\Users\\jairo.teijomendoza\\Anaconda3\\lib\\site-packages\\numpy\\__init__.py)"
     ]
    }
   ],
   "source": [
    "# tiene que dar 1.6396528160959412\n",
    "import numpy"
   ]
  },
  {
   "cell_type": "markdown",
   "metadata": {
    "id": "CGkyctda_-6r"
   },
   "source": [
    "### 10º Realiza la siguiente operación (mod(z) representa el módulo de z):\n",
    "\n",
    "$mod(\\frac{4+7j}{3-2j})$\n"
   ]
  },
  {
   "cell_type": "code",
   "execution_count": null,
   "metadata": {
    "colab": {
     "base_uri": "https://localhost:8080/"
    },
    "id": "dLSmIip5AEYk",
    "outputId": "eb9d9740-d534-48d9-9342-8c53cf4ff462"
   },
   "outputs": [
    {
     "data": {
      "text/plain": [
       "2.23606797749979"
      ]
     },
     "execution_count": 29,
     "metadata": {},
     "output_type": "execute_result"
    }
   ],
   "source": [
    "# tiene que dar 2.23606797749979\n"
   ]
  }
 ],
 "metadata": {
  "colab": {
   "collapsed_sections": [],
   "provenance": []
  },
  "kernelspec": {
   "display_name": "Python 3 (ipykernel)",
   "language": "python",
   "name": "python3"
  },
  "language_info": {
   "codemirror_mode": {
    "name": "ipython",
    "version": 3
   },
   "file_extension": ".py",
   "mimetype": "text/x-python",
   "name": "python",
   "nbconvert_exporter": "python",
   "pygments_lexer": "ipython3",
   "version": "3.8.13"
  }
 },
 "nbformat": 4,
 "nbformat_minor": 4
}
